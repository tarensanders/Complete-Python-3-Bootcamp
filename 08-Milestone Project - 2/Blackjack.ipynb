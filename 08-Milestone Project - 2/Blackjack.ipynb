{
 "cells": [
  {
   "cell_type": "markdown",
   "metadata": {},
   "source": [
    "Things needed:\n",
    "* Deck System\n",
    "* Betting System\n",
    "* Player hand system (sit/hit)\n",
    "* Automated dealer"
   ]
  },
  {
   "cell_type": "markdown",
   "metadata": {},
   "source": [
    "**Setup**"
   ]
  },
  {
   "cell_type": "code",
   "execution_count": 1,
   "metadata": {},
   "outputs": [],
   "source": [
    "from random import shuffle\n",
    "from IPython.display import clear_output\n",
    "\n",
    "suits = ('Hearts', 'Diamonds', 'Spades', 'Clubs')\n",
    "ranks = ('Two', 'Three', 'Four', 'Five', 'Six', 'Seven', 'Eight', 'Nine', 'Ten', 'Jack', 'Queen', 'King', 'Ace')\n",
    "values = {'Two':2, 'Three':3, 'Four':4, 'Five':5, 'Six':6, 'Seven':7, 'Eight':8, 'Nine':9, 'Ten':10, 'Jack':10,\n",
    "         'Queen':10, 'King':10, 'Ace':11}"
   ]
  },
  {
   "cell_type": "markdown",
   "metadata": {},
   "source": [
    "**Player's account**"
   ]
  },
  {
   "cell_type": "code",
   "execution_count": 2,
   "metadata": {},
   "outputs": [],
   "source": [
    "class Account:\n",
    "    balance = 100\n",
    "    \n",
    "    def __init__(self):\n",
    "        self.balance = Account.balance\n",
    "        \n",
    "    def deposit(self,amount):\n",
    "        self.balance += amount\n",
    "        \n",
    "    def withdraw(self,amount):\n",
    "        self.balance -= amount"
   ]
  },
  {
   "cell_type": "markdown",
   "metadata": {},
   "source": [
    "**Deck System**"
   ]
  },
  {
   "cell_type": "code",
   "execution_count": 3,
   "metadata": {},
   "outputs": [],
   "source": [
    "class Card:\n",
    "    def __init__(self,suit,rank):\n",
    "        self.suit = suit\n",
    "        self.rank = rank\n",
    "        \n",
    "    def __str__(self):\n",
    "        return self.rank +' of '+ self.suit"
   ]
  },
  {
   "cell_type": "code",
   "execution_count": 4,
   "metadata": {},
   "outputs": [],
   "source": [
    "class Deck:\n",
    "    \n",
    "    def __init__(self):\n",
    "        self.deck = []\n",
    "        for suit in suits:\n",
    "            for rank in ranks:\n",
    "                self.deck.append(Card(suit,rank))\n",
    "                \n",
    "    def __len__(self):\n",
    "        return len(self.deck)\n",
    "                \n",
    "    def shuffle(self):\n",
    "        shuffle(self.deck)\n",
    "        \n",
    "    def deal(self):\n",
    "        dealt_card = self.deck.pop()\n",
    "        return dealt_card\n",
    "        \n",
    "    "
   ]
  },
  {
   "cell_type": "code",
   "execution_count": 5,
   "metadata": {},
   "outputs": [],
   "source": [
    "class Hand:\n",
    "    def __init__(self):\n",
    "        self.cards = []\n",
    "        self.value = 0\n",
    "        self.aces = 0\n",
    "        \n",
    "    def add_card(self,card):\n",
    "        self.cards.append(card)\n",
    "        self.value += values[card.rank]\n",
    "        if card.rank == 'Ace':\n",
    "            self.aces +=1\n",
    "        if self.value>21 and self.aces>0:\n",
    "            self.value -= 10\n",
    "            self.aces -= 1"
   ]
  },
  {
   "cell_type": "markdown",
   "metadata": {},
   "source": [
    "**Betting System**"
   ]
  },
  {
   "cell_type": "code",
   "execution_count": 6,
   "metadata": {},
   "outputs": [],
   "source": [
    "def take_bet():\n",
    "    bet_good = False\n",
    "    print(f'Your account balance is: {player_account.balance}')\n",
    "    while bet_good == False:\n",
    "        try:\n",
    "            bet = int(input('Enter your bet:'))\n",
    "        except ValueError:\n",
    "            print(\"You must enter a number only\")\n",
    "        else:\n",
    "            if bet<=player_account.balance and bet!=0:\n",
    "                player_account.withdraw(bet)\n",
    "                bet_good = True\n",
    "            elif bet==0:\n",
    "                print(\"You must bet more than nothing!\")            \n",
    "            else:\n",
    "                print(f\"Bet exceeds amount in account. You have {player_account.balance} in your account\")\n",
    "    return bet"
   ]
  },
  {
   "cell_type": "code",
   "execution_count": 7,
   "metadata": {},
   "outputs": [],
   "source": [
    "def get_action():\n",
    "    action_good = False\n",
    "    \n",
    "    while action_good==False:\n",
    "        try:\n",
    "            action = int(input('1 - Stand\\n2 - Hit\\n'))\n",
    "        except:\n",
    "            print('You can only select from the presented options')\n",
    "        else:\n",
    "            action_good=True\n",
    "    return action\n"
   ]
  },
  {
   "cell_type": "code",
   "execution_count": 8,
   "metadata": {},
   "outputs": [],
   "source": [
    "def play_again():\n",
    "    action_good = False\n",
    "    \n",
    "    while action_good==False:\n",
    "        try:\n",
    "            action = int(input('Would you like to play again? \\n1 - Yes\\n2 - No\\n'))\n",
    "        except:\n",
    "            print('You can only select from the presented options')\n",
    "        else:\n",
    "            action_good=True\n",
    "    return action"
   ]
  },
  {
   "cell_type": "code",
   "execution_count": 9,
   "metadata": {},
   "outputs": [],
   "source": [
    "def gameboard(hidden):\n",
    "    \n",
    "    if hidden:\n",
    "        clear_output()\n",
    "        print(f'Bet:{bet}\\n')\n",
    "        print(f'Dealer Cards:\\n{dealer_hand.cards[0]}\\n<HIDDEN>\\n')\n",
    "        print('Player Cards:')\n",
    "        for card in player_hand.cards:\n",
    "            print(card)\n",
    "        print(f'You are on: {player_hand.value}\\n')\n",
    "    else:\n",
    "        clear_output()\n",
    "        print(f'Bet:{bet}\\n')\n",
    "        print(f'Dealer Cards:')\n",
    "        for card in dealer_hand.cards:\n",
    "            print(card)\n",
    "        print(f'Dealer is on: {dealer_hand.value}\\n')\n",
    "        if dealer_hand.value>21:\n",
    "            print('Busted')\n",
    "        print('Player Cards:')\n",
    "        for card in player_hand.cards:\n",
    "            print(card)\n",
    "        print(f'You are on: {player_hand.value}\\n')"
   ]
  },
  {
   "cell_type": "code",
   "execution_count": 10,
   "metadata": {},
   "outputs": [],
   "source": [
    "def player_turn():\n",
    "    turn_active = True\n",
    "    turn_outcome = 0\n",
    "    \n",
    "    gameboard(True)\n",
    "    \n",
    "    while turn_active:\n",
    "\n",
    "        if get_action() == 2:\n",
    "            player_hand.add_card(deck.deal())\n",
    "            gameboard(True)\n",
    "            if player_hand.value>21:\n",
    "                print('Busted')\n",
    "                turn_outcome = 'bust'\n",
    "                turn_active=False\n",
    "            elif player_hand.value==21:\n",
    "                turn_outcome = 21\n",
    "                turn_active=False\n",
    "        else:\n",
    "            turn_outcome=player_hand.value\n",
    "            turn_active=False\n",
    "            \n",
    "    return turn_outcome"
   ]
  },
  {
   "cell_type": "code",
   "execution_count": 11,
   "metadata": {},
   "outputs": [],
   "source": [
    "def dealer_turn():\n",
    "    turn_outcome = 0\n",
    "    \n",
    "    gameboard(False)\n",
    "    \n",
    "    while dealer_hand.value <17:\n",
    "        dealer_hand.add_card(deck.deal())\n",
    "        gameboard(False)\n",
    "        if dealer_hand.value>21:\n",
    "            turn_outcome='bust'\n",
    "        else:\n",
    "            turn_outcome=dealer_hand.value\n",
    "            \n",
    "    return turn_outcome"
   ]
  },
  {
   "cell_type": "code",
   "execution_count": null,
   "metadata": {},
   "outputs": [
    {
     "name": "stdout",
     "output_type": "stream",
     "text": [
      "Bet:560\n",
      "\n",
      "Dealer Cards:\n",
      "Jack of Hearts\n",
      "Eight of Diamonds\n",
      "Dealer is on: 18\n",
      "\n",
      "Player Cards:\n",
      "Six of Spades\n",
      "Four of Spades\n",
      "You are on: 10\n",
      "\n",
      "You win 1120\n",
      "New account balance:1120\n"
     ]
    }
   ],
   "source": [
    "player_account = Account()\n",
    "\n",
    "while True:   \n",
    "    outcome=''\n",
    "    # Create the deck and shuffle\n",
    "    deck = Deck()\n",
    "    deck.shuffle()\n",
    "\n",
    "    player_hand = Hand() #create an empty hand for the player\n",
    "    dealer_hand = Hand() #create an empty hand for the dealer\n",
    "    \n",
    "    print('Dealing Cards...')\n",
    "    \n",
    "    player_hand.add_card(deck.deal())\n",
    "    dealer_hand.add_card(deck.deal())\n",
    "    player_hand.add_card(deck.deal())\n",
    "    dealer_hand.add_card(deck.deal())\n",
    "    \n",
    "    bet = take_bet()\n",
    "    \n",
    "    gameboard(True)\n",
    "    \n",
    "    if player_hand.value == 21:\n",
    "        print('Blackjack!')\n",
    "        outcome = 'player'\n",
    "    else:\n",
    "        player_outcome= player_turn()\n",
    "                \n",
    "        if player_outcome=='bust':\n",
    "            outcome = 'dealer'\n",
    "\n",
    "        else:\n",
    "            dealer_outcome = dealer_turn()\n",
    "\n",
    "            if dealer_outcome=='bust' or dealer_outcome<player_outcome:\n",
    "                outcome = 'player'\n",
    "            elif dealer_outcome==player_outcome:\n",
    "                outcome='split'\n",
    "            else:\n",
    "                outcome='dealer'\n",
    "                \n",
    "    gameboard(False)\n",
    "    \n",
    "    if outcome=='player':\n",
    "        print(f'You win {bet*2}')\n",
    "        player_account.deposit(bet*2)\n",
    "    elif outcome=='split':\n",
    "            print(f'Draw. {bet} returned')\n",
    "            player_account.deposit(bet)\n",
    "        \n",
    "    print(f'New account balance:{player_account.balance}')\n",
    "    \n",
    "    if play_again()==2:    \n",
    "        break"
   ]
  },
  {
   "cell_type": "code",
   "execution_count": null,
   "metadata": {},
   "outputs": [],
   "source": []
  },
  {
   "cell_type": "code",
   "execution_count": null,
   "metadata": {},
   "outputs": [],
   "source": []
  }
 ],
 "metadata": {
  "kernelspec": {
   "display_name": "Python 3",
   "language": "python",
   "name": "python3"
  },
  "language_info": {
   "codemirror_mode": {
    "name": "ipython",
    "version": 3
   },
   "file_extension": ".py",
   "mimetype": "text/x-python",
   "name": "python",
   "nbconvert_exporter": "python",
   "pygments_lexer": "ipython3",
   "version": "3.6.4"
  }
 },
 "nbformat": 4,
 "nbformat_minor": 2
}
