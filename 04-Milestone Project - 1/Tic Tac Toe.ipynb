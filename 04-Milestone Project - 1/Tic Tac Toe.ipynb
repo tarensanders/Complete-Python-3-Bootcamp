{
 "cells": [
  {
   "cell_type": "markdown",
   "metadata": {},
   "source": [
    "**Function to draw the board**"
   ]
  },
  {
   "cell_type": "code",
   "execution_count": 130,
   "metadata": {},
   "outputs": [],
   "source": [
    "def draw_board(sqs=[' ',' ',' ',' ',' ',' ',' ',' ',' ']):\n",
    "    print(f\"1    |2    |3    \\n  {sqs[0]}  |  {sqs[1]}  |  {sqs[2]}  \\n_____|_____|_____\\n4    |5    |6    \\n  {sqs[3]}  |  {sqs[4]}  |  {sqs[5]}  \\n_____|_____|_____\\n7    |8    |9    \\n  {sqs[6]}  |  {sqs[7]}  |  {sqs[8]}  \\n     |     |     \\n\")\n",
    "\n",
    "        "
   ]
  },
  {
   "cell_type": "code",
   "execution_count": 8,
   "metadata": {},
   "outputs": [
    {
     "name": "stdout",
     "output_type": "stream",
     "text": [
      "1    |2    |3    \n",
      "     |     |     \n",
      "_____|_____|_____\n",
      "4    |5    |6    \n",
      "     |     |     \n",
      "_____|_____|_____\n",
      "7    |8    |9    \n",
      "     |     |     \n",
      "     |     |     \n",
      "\n"
     ]
    }
   ],
   "source": [
    "draw_board()"
   ]
  },
  {
   "cell_type": "markdown",
   "metadata": {},
   "source": [
    "**Get input**"
   ]
  },
  {
   "cell_type": "code",
   "execution_count": 164,
   "metadata": {},
   "outputs": [],
   "source": [
    "def get_input(sqs,player):\n",
    "    valid_turn = False\n",
    "    if player == 1:\n",
    "        print(\"PLAYER ONE'S TURN\")\n",
    "    else:\n",
    "        print(\"PLAYER TWO'S TURN\")\n",
    "    while valid_turn == False:\n",
    "        turn = int(input(\"Pick a square:\"))-1\n",
    "        if sqs[turn] == ' ':\n",
    "            if player == 1:\n",
    "                sqs[turn] = 'X'\n",
    "                valid_turn = True\n",
    "            else:\n",
    "                sqs[turn] = 'O'\n",
    "                valid_turn = True\n",
    "        else:\n",
    "            print(\"Invalid Input\")\n",
    "    return sqs"
   ]
  },
  {
   "cell_type": "markdown",
   "metadata": {},
   "source": [
    "**Check for winner**"
   ]
  },
  {
   "cell_type": "code",
   "execution_count": 174,
   "metadata": {},
   "outputs": [],
   "source": [
    "def check_game(sqs):\n",
    "    win_options = [(0,3,1),(3,6,1),(6,9,1),(0,-1,3),(1,None,3),(2,None,3),(0,None,4),(2,7,2)]\n",
    "    \n",
    "    if sqs.count('X') < 3 and sqs.count('O') < 3:\n",
    "        return 'cont'\n",
    "    for n,a in enumerate(win_options):\n",
    "        if sqs[win_options[n][0]:win_options[n][1]:win_options[n][2]].count('X') == 3:\n",
    "            return 'win One'\n",
    "            break\n",
    "        elif sqs[win_options[n][0]:win_options[n][1]:win_options[n][2]].count('O') == 3:\n",
    "            return 'win Two'\n",
    "            break\n",
    "        elif n == 7:\n",
    "                if sqs.count('X') + sqs.count('O') == 9:\n",
    "                    return 'draw' \n",
    "                else:\n",
    "                    return 'cont'\n",
    "        \n",
    " \n",
    "    "
   ]
  },
  {
   "cell_type": "code",
   "execution_count": 175,
   "metadata": {},
   "outputs": [],
   "source": [
    "def full_game():\n",
    "    #Setup new game\n",
    "    sqs=[' ',' ',' ',' ',' ',' ',' ',' ',' ']\n",
    "    cont_game = True\n",
    "    game_status = ''\n",
    "    #Explain rules\n",
    "    draw_board(sqs)\n",
    "    while cont_game:\n",
    "        #Player One's Turn\n",
    "        sqs = get_input(sqs, player=1)\n",
    "        draw_board(sqs)\n",
    "        game_status = check_game(sqs)\n",
    "        if game_status != 'cont':\n",
    "            break\n",
    "        #Player Two's Turn\n",
    "        sqs = get_input(sqs, player=2)\n",
    "        draw_board(sqs)\n",
    "        check_game(sqs)\n",
    "        if game_status != 'cont':\n",
    "            break\n",
    "       \n",
    "    if game_status == 'draw':\n",
    "        print(\"Drawn Game!\")\n",
    "    elif 'win' in game_status:\n",
    "        print(f\"Player {game_status[-3:]} wins!\")\n"
   ]
  },
  {
   "cell_type": "code",
   "execution_count": null,
   "metadata": {},
   "outputs": [
    {
     "name": "stdout",
     "output_type": "stream",
     "text": [
      "1    |2    |3    \n",
      "     |     |     \n",
      "_____|_____|_____\n",
      "4    |5    |6    \n",
      "     |     |     \n",
      "_____|_____|_____\n",
      "7    |8    |9    \n",
      "     |     |     \n",
      "     |     |     \n",
      "\n",
      "PLAYER ONE'S TURN\n",
      "Pick a square:5\n",
      "1    |2    |3    \n",
      "     |     |     \n",
      "_____|_____|_____\n",
      "4    |5    |6    \n",
      "     |  X  |     \n",
      "_____|_____|_____\n",
      "7    |8    |9    \n",
      "     |     |     \n",
      "     |     |     \n",
      "\n",
      "PLAYER TWO'S TURN\n"
     ]
    }
   ],
   "source": [
    "full_game()"
   ]
  },
  {
   "cell_type": "code",
   "execution_count": null,
   "metadata": {},
   "outputs": [],
   "source": [
    "###### win_h1 = ['X','X','X',' ',' ',' ',' ',' ',' '] #sqs[0:3]\n",
    "win_h2 = [' ',' ',' ','X','X','X',' ',' ',' '] #sqs[3:6]\n",
    "win_h3 = [' ',' ',' ',' ',' ',' ','X','X','X'] #sqs[6:9]\n",
    "win_v1 = ['X',' ',' ','X',' ',' ','X',' ',' '] #sqs[::3]\n",
    "win_v2 = [' ','X',' ',' ','X',' ',' ','X',' '] #sqs[1::3]\n",
    "win_v3 = [' ',' ','X',' ',' ','X',' ',' ','X'] #sqs[2::3]\n",
    "win_d1 = ['X',' ',' ',' ','X',' ',' ',' ','X'] #sqs[::4]\n",
    "win_d2 = [' ',' ','X',' ','X',' ','X',' ',' '] #sqs[2:7:2]\n",
    "test = ['X','X','X','O',' ','X',' ',' ',' ']\n",
    "\n",
    "win_options = [(0,3,1),(3,6,1),(6,9,1),(0,-1,3),(1,None,3),(2,None,3),(0,None,4),(2,7,2)]\n",
    "\n",
    "# test(win_options[0][0]:win_options[]\n",
    "\n",
    "for n,a in enumerate(test):\n",
    "    print(n)\n",
    "\n",
    "\n",
    "test[win_options[0][0]:win_options[0][1]:win_options[0][2]].count('X')"
   ]
  },
  {
   "cell_type": "code",
   "execution_count": null,
   "metadata": {},
   "outputs": [],
   "source": []
  }
 ],
 "metadata": {
  "kernelspec": {
   "display_name": "Python 3",
   "language": "python",
   "name": "python3"
  },
  "language_info": {
   "codemirror_mode": {
    "name": "ipython",
    "version": 3
   },
   "file_extension": ".py",
   "mimetype": "text/x-python",
   "name": "python",
   "nbconvert_exporter": "python",
   "pygments_lexer": "ipython3",
   "version": "3.6.4"
  }
 },
 "nbformat": 4,
 "nbformat_minor": 2
}
